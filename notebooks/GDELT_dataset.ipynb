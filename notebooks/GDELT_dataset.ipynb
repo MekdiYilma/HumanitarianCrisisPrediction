{
 "cells": [
  {
   "cell_type": "code",
   "execution_count": 21,
   "id": "elder-average",
   "metadata": {},
   "outputs": [],
   "source": [
    "import numpy as np\n",
    "import pandas as pd\n",
    "import gdelt"
   ]
  },
  {
   "cell_type": "code",
   "execution_count": 19,
   "id": "sixth-grammar",
   "metadata": {},
   "outputs": [
    {
     "name": "stdout",
     "output_type": "stream",
     "text": [
      "531943\n"
     ]
    }
   ],
   "source": [
    "import gdelt\n",
    "\n",
    "# GDELT Version 2 queries\n",
    "gd2 = gdelt.gdelt(version=2)\n",
    "\n",
    "\n",
    "# Selected dates pull, output to pandas dataframe, events table\n",
    "results = gd2.Search(['20181101','20181103'],table='events',coverage=True)\n",
    "print(len(results))"
   ]
  },
  {
   "cell_type": "code",
   "execution_count": 23,
   "id": "czech-orbit",
   "metadata": {},
   "outputs": [
    {
     "data": {
      "text/plain": [
       "GLOBALEVENTID                                                  799103048\n",
       "SQLDATE                                                         20181101\n",
       "MonthYear                                                         201811\n",
       "Year                                                                2018\n",
       "FractionDate                                                   2018.8247\n",
       "                                             ...                        \n",
       "ActionGeo_Lat                                                    41.0186\n",
       "ActionGeo_Long                                                   28.9647\n",
       "ActionGeo_FeatureID                                              -755070\n",
       "DATEADDED                                                 20181101013000\n",
       "SOURCEURL              https://www.ivpressonline.com/news/world/the-l...\n",
       "Name: 30000, Length: 62, dtype: object"
      ]
     },
     "execution_count": 23,
     "metadata": {},
     "output_type": "execute_result"
    }
   ],
   "source": [
    "results.iloc[30000]"
   ]
  },
  {
   "cell_type": "code",
   "execution_count": null,
   "id": "greater-planner",
   "metadata": {},
   "outputs": [],
   "source": []
  }
 ],
 "metadata": {
  "kernelspec": {
   "display_name": "Python 3",
   "language": "python",
   "name": "python3"
  },
  "language_info": {
   "codemirror_mode": {
    "name": "ipython",
    "version": 3
   },
   "file_extension": ".py",
   "mimetype": "text/x-python",
   "name": "python",
   "nbconvert_exporter": "python",
   "pygments_lexer": "ipython3",
   "version": "3.7.7"
  }
 },
 "nbformat": 4,
 "nbformat_minor": 5
}
