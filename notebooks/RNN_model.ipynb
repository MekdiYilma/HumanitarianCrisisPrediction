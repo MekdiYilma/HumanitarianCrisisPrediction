{
  "nbformat": 4,
  "nbformat_minor": 0,
  "metadata": {
    "colab": {
      "name": "RNN_model.ipynb",
      "provenance": [],
      "authorship_tag": "ABX9TyMjx5xWcvhV8jGNh03O+715",
      "include_colab_link": true
    },
    "kernelspec": {
      "name": "python3",
      "display_name": "Python 3"
    },
    "language_info": {
      "name": "python"
    }
  },
  "cells": [
    {
      "cell_type": "markdown",
      "metadata": {
        "id": "view-in-github",
        "colab_type": "text"
      },
      "source": [
        "<a href=\"https://colab.research.google.com/github/MekdiYilma/HumanitarianCrisisPrediction/blob/main/notebooks/RNN_model.ipynb\" target=\"_parent\"><img src=\"https://colab.research.google.com/assets/colab-badge.svg\" alt=\"Open In Colab\"/></a>"
      ]
    },
    {
      "cell_type": "code",
      "metadata": {
        "id": "xZSp_KxEI4B5"
      },
      "source": [
        "import numpy as np\n",
        "import pandas as pd\n",
        "import matplotlib.pyplot as plt\n"
      ],
      "execution_count": 1,
      "outputs": []
    },
    {
      "cell_type": "code",
      "metadata": {
        "colab": {
          "base_uri": "https://localhost:8080/"
        },
        "id": "xb74aEZeI-sX",
        "outputId": "d48fe7dc-7d03-4b83-e64a-214b1a18397b"
      },
      "source": [
        "from google.colab import auth\n",
        "auth.authenticate_user()\n",
        "print('Authenticated')"
      ],
      "execution_count": 2,
      "outputs": [
        {
          "output_type": "stream",
          "text": [
            "Authenticated\n"
          ],
          "name": "stdout"
        }
      ]
    },
    {
      "cell_type": "code",
      "metadata": {
        "id": "l3-zb-ijJAS3"
      },
      "source": [
        "%%bigquery --project asana-bq yemen_df\n",
        "SELECT SQLDATE, Actor1Name, Actor2Name, QuadClass, GoldsteinScale, NumArticles, AvgTone, EventCode\n",
        "FROM `gdelt-bq.gdeltv2.events` \n",
        "WHERE ActionGeo_CountryCode = 'YM'\n",
        "ORDER BY SQLDATE DESC \n",
        "LIMIT 20000"
      ],
      "execution_count": 3,
      "outputs": []
    },
    {
      "cell_type": "code",
      "metadata": {
        "colab": {
          "base_uri": "https://localhost:8080/",
          "height": 450
        },
        "id": "uohIJf3HJHNM",
        "outputId": "656e151f-14ef-4ff5-f87d-54d4ed1bb2a4"
      },
      "source": [
        "humanitarian_crisis_events = ['0233', '0243', '0333', '0343', '0243', '073', '074', '0833', '0861', '0863',\n",
        "                              '092', '094', '103', '1033', '1043', '1122', '1124', '1233', '137', '138', \n",
        "                              '1382', '1383', '1384', '1385', '1413', '1423', '1451', '1452', '1453', '1454', \n",
        "                              '175', '18', '180', '181', '182', '1821', '1822', '1823', '183', '1831', '1832', \n",
        "                              '1833', '184']\n",
        "yemen_df['IsHumanitarianCrisis'] = yemen_df.EventCode.isin(humanitarian_crisis_events)\n",
        "yemen_df.SQLDATE = pd.to_datetime(yemen_df.SQLDATE, format='%Y%m%d', errors='ignore')\n",
        "yemen_df = yemen_df.set_index('SQLDATE')\n",
        "yemen_df_grouped = yemen_df['IsHumanitarianCrisis'].groupby(pd.Grouper(freq='d')).agg(['sum','count','mean'])\n",
        "yemen_df_grouped"
      ],
      "execution_count": 4,
      "outputs": [
        {
          "output_type": "execute_result",
          "data": {
            "text/html": [
              "<div>\n",
              "<style scoped>\n",
              "    .dataframe tbody tr th:only-of-type {\n",
              "        vertical-align: middle;\n",
              "    }\n",
              "\n",
              "    .dataframe tbody tr th {\n",
              "        vertical-align: top;\n",
              "    }\n",
              "\n",
              "    .dataframe thead th {\n",
              "        text-align: right;\n",
              "    }\n",
              "</style>\n",
              "<table border=\"1\" class=\"dataframe\">\n",
              "  <thead>\n",
              "    <tr style=\"text-align: right;\">\n",
              "      <th></th>\n",
              "      <th>sum</th>\n",
              "      <th>count</th>\n",
              "      <th>mean</th>\n",
              "    </tr>\n",
              "    <tr>\n",
              "      <th>SQLDATE</th>\n",
              "      <th></th>\n",
              "      <th></th>\n",
              "      <th></th>\n",
              "    </tr>\n",
              "  </thead>\n",
              "  <tbody>\n",
              "    <tr>\n",
              "      <th>2021-05-05</th>\n",
              "      <td>1</td>\n",
              "      <td>49</td>\n",
              "      <td>0.020408</td>\n",
              "    </tr>\n",
              "    <tr>\n",
              "      <th>2021-05-06</th>\n",
              "      <td>8</td>\n",
              "      <td>430</td>\n",
              "      <td>0.018605</td>\n",
              "    </tr>\n",
              "    <tr>\n",
              "      <th>2021-05-07</th>\n",
              "      <td>18</td>\n",
              "      <td>476</td>\n",
              "      <td>0.037815</td>\n",
              "    </tr>\n",
              "    <tr>\n",
              "      <th>2021-05-08</th>\n",
              "      <td>19</td>\n",
              "      <td>334</td>\n",
              "      <td>0.056886</td>\n",
              "    </tr>\n",
              "    <tr>\n",
              "      <th>2021-05-09</th>\n",
              "      <td>18</td>\n",
              "      <td>308</td>\n",
              "      <td>0.058442</td>\n",
              "    </tr>\n",
              "    <tr>\n",
              "      <th>...</th>\n",
              "      <td>...</td>\n",
              "      <td>...</td>\n",
              "      <td>...</td>\n",
              "    </tr>\n",
              "    <tr>\n",
              "      <th>2021-07-09</th>\n",
              "      <td>10</td>\n",
              "      <td>224</td>\n",
              "      <td>0.044643</td>\n",
              "    </tr>\n",
              "    <tr>\n",
              "      <th>2021-07-10</th>\n",
              "      <td>9</td>\n",
              "      <td>214</td>\n",
              "      <td>0.042056</td>\n",
              "    </tr>\n",
              "    <tr>\n",
              "      <th>2021-07-11</th>\n",
              "      <td>4</td>\n",
              "      <td>181</td>\n",
              "      <td>0.022099</td>\n",
              "    </tr>\n",
              "    <tr>\n",
              "      <th>2021-07-12</th>\n",
              "      <td>5</td>\n",
              "      <td>241</td>\n",
              "      <td>0.020747</td>\n",
              "    </tr>\n",
              "    <tr>\n",
              "      <th>2021-07-13</th>\n",
              "      <td>4</td>\n",
              "      <td>217</td>\n",
              "      <td>0.018433</td>\n",
              "    </tr>\n",
              "  </tbody>\n",
              "</table>\n",
              "<p>70 rows × 3 columns</p>\n",
              "</div>"
            ],
            "text/plain": [
              "            sum  count      mean\n",
              "SQLDATE                         \n",
              "2021-05-05    1     49  0.020408\n",
              "2021-05-06    8    430  0.018605\n",
              "2021-05-07   18    476  0.037815\n",
              "2021-05-08   19    334  0.056886\n",
              "2021-05-09   18    308  0.058442\n",
              "...         ...    ...       ...\n",
              "2021-07-09   10    224  0.044643\n",
              "2021-07-10    9    214  0.042056\n",
              "2021-07-11    4    181  0.022099\n",
              "2021-07-12    5    241  0.020747\n",
              "2021-07-13    4    217  0.018433\n",
              "\n",
              "[70 rows x 3 columns]"
            ]
          },
          "metadata": {
            "tags": []
          },
          "execution_count": 4
        }
      ]
    },
    {
      "cell_type": "code",
      "metadata": {
        "colab": {
          "base_uri": "https://localhost:8080/",
          "height": 450
        },
        "id": "0wJT1YXRJPCm",
        "outputId": "7ffbdf34-c69d-4d60-dbc2-1e1d2fec54a2"
      },
      "source": [
        "yemen_df_ts = yemen_df_grouped[['mean']]\n",
        "yemen_df_ts"
      ],
      "execution_count": 7,
      "outputs": [
        {
          "output_type": "execute_result",
          "data": {
            "text/html": [
              "<div>\n",
              "<style scoped>\n",
              "    .dataframe tbody tr th:only-of-type {\n",
              "        vertical-align: middle;\n",
              "    }\n",
              "\n",
              "    .dataframe tbody tr th {\n",
              "        vertical-align: top;\n",
              "    }\n",
              "\n",
              "    .dataframe thead th {\n",
              "        text-align: right;\n",
              "    }\n",
              "</style>\n",
              "<table border=\"1\" class=\"dataframe\">\n",
              "  <thead>\n",
              "    <tr style=\"text-align: right;\">\n",
              "      <th></th>\n",
              "      <th>mean</th>\n",
              "    </tr>\n",
              "    <tr>\n",
              "      <th>SQLDATE</th>\n",
              "      <th></th>\n",
              "    </tr>\n",
              "  </thead>\n",
              "  <tbody>\n",
              "    <tr>\n",
              "      <th>2021-05-05</th>\n",
              "      <td>0.020408</td>\n",
              "    </tr>\n",
              "    <tr>\n",
              "      <th>2021-05-06</th>\n",
              "      <td>0.018605</td>\n",
              "    </tr>\n",
              "    <tr>\n",
              "      <th>2021-05-07</th>\n",
              "      <td>0.037815</td>\n",
              "    </tr>\n",
              "    <tr>\n",
              "      <th>2021-05-08</th>\n",
              "      <td>0.056886</td>\n",
              "    </tr>\n",
              "    <tr>\n",
              "      <th>2021-05-09</th>\n",
              "      <td>0.058442</td>\n",
              "    </tr>\n",
              "    <tr>\n",
              "      <th>...</th>\n",
              "      <td>...</td>\n",
              "    </tr>\n",
              "    <tr>\n",
              "      <th>2021-07-09</th>\n",
              "      <td>0.044643</td>\n",
              "    </tr>\n",
              "    <tr>\n",
              "      <th>2021-07-10</th>\n",
              "      <td>0.042056</td>\n",
              "    </tr>\n",
              "    <tr>\n",
              "      <th>2021-07-11</th>\n",
              "      <td>0.022099</td>\n",
              "    </tr>\n",
              "    <tr>\n",
              "      <th>2021-07-12</th>\n",
              "      <td>0.020747</td>\n",
              "    </tr>\n",
              "    <tr>\n",
              "      <th>2021-07-13</th>\n",
              "      <td>0.018433</td>\n",
              "    </tr>\n",
              "  </tbody>\n",
              "</table>\n",
              "<p>70 rows × 1 columns</p>\n",
              "</div>"
            ],
            "text/plain": [
              "                mean\n",
              "SQLDATE             \n",
              "2021-05-05  0.020408\n",
              "2021-05-06  0.018605\n",
              "2021-05-07  0.037815\n",
              "2021-05-08  0.056886\n",
              "2021-05-09  0.058442\n",
              "...              ...\n",
              "2021-07-09  0.044643\n",
              "2021-07-10  0.042056\n",
              "2021-07-11  0.022099\n",
              "2021-07-12  0.020747\n",
              "2021-07-13  0.018433\n",
              "\n",
              "[70 rows x 1 columns]"
            ]
          },
          "metadata": {
            "tags": []
          },
          "execution_count": 7
        }
      ]
    },
    {
      "cell_type": "code",
      "metadata": {
        "id": "dYbRnUq2JTBK"
      },
      "source": [
        "idx = int(len(yemen_df_ts)*0.75)\n",
        "yemen_df_train =  yemen_df_ts.iloc[:idx]\n",
        "yemen_df_test =  yemen_df_ts.iloc[idx:]\n",
        " "
      ],
      "execution_count": 12,
      "outputs": []
    },
    {
      "cell_type": "code",
      "metadata": {
        "id": "zsKNJ2KBKLp1"
      },
      "source": [
        "from sklearn.preprocessing import MinMaxScaler\n",
        "\n",
        "scaler = MinMaxScaler()\n",
        "scaler.fit(yemen_df_train)\n",
        "scaled_train = scaler.transform(yemen_df_train)\n",
        "scaled_test = scaler.transform(yemen_df_test)"
      ],
      "execution_count": 13,
      "outputs": []
    },
    {
      "cell_type": "code",
      "metadata": {
        "colab": {
          "base_uri": "https://localhost:8080/"
        },
        "id": "JxoH42XdLIM5",
        "outputId": "9b565c9a-0ba2-40ff-8805-914461befa49"
      },
      "source": [
        "scaled_train[:10]"
      ],
      "execution_count": 17,
      "outputs": [
        {
          "output_type": "execute_result",
          "data": {
            "text/plain": [
              "array([[0.21535983],\n",
              "       [0.19632803],\n",
              "       [0.39904909],\n",
              "       [0.6002994 ],\n",
              "       [0.61671224],\n",
              "       [0.53710999],\n",
              "       [0.69833591],\n",
              "       [0.57650956],\n",
              "       [0.14968272],\n",
              "       [0.80730515]])"
            ]
          },
          "metadata": {
            "tags": []
          },
          "execution_count": 17
        }
      ]
    },
    {
      "cell_type": "code",
      "metadata": {
        "id": "eccIfJ-hLJrP"
      },
      "source": [
        "from keras.preprocessing.sequence import TimeseriesGenerator"
      ],
      "execution_count": 15,
      "outputs": []
    },
    {
      "cell_type": "code",
      "metadata": {
        "id": "7xKfzvViLTnf"
      },
      "source": [
        "n_input = 12\n",
        "n_features = 1\n",
        "generator = TimeseriesGenerator(scaled_train, scaled_train, length=n_input, batch_size=1)"
      ],
      "execution_count": 68,
      "outputs": []
    },
    {
      "cell_type": "code",
      "metadata": {
        "colab": {
          "base_uri": "https://localhost:8080/"
        },
        "id": "lMgRCT2fL8mN",
        "outputId": "7423bf4d-7bd4-403d-c01a-2ea3d56f3ba3"
      },
      "source": [
        "X, y = generator[1]\n",
        "print(f'Given an array X: {X.flatten()}')\n",
        "print(f'predict this y: {y}')"
      ],
      "execution_count": 69,
      "outputs": [
        {
          "output_type": "stream",
          "text": [
            "Given an array X: [0.19632803 0.39904909 0.6002994  0.61671224 0.53710999 0.69833591\n",
            " 0.57650956 0.14968272 0.80730515 0.06988498 0.41382869 0.2524553 ]\n",
            "predict this y: [[0.42780939]]\n"
          ],
          "name": "stdout"
        }
      ]
    },
    {
      "cell_type": "code",
      "metadata": {
        "colab": {
          "base_uri": "https://localhost:8080/"
        },
        "id": "trqIQcVJMHWh",
        "outputId": "7eaab078-966a-4151-c29c-16b92f4fe28a"
      },
      "source": [
        "X.shape"
      ],
      "execution_count": 70,
      "outputs": [
        {
          "output_type": "execute_result",
          "data": {
            "text/plain": [
              "(1, 12, 1)"
            ]
          },
          "metadata": {
            "tags": []
          },
          "execution_count": 70
        }
      ]
    },
    {
      "cell_type": "code",
      "metadata": {
        "id": "6mMios6sMXZx"
      },
      "source": [
        "from keras.models import Sequential\n",
        "from keras.layers import Dense\n",
        "from keras.layers import LSTM"
      ],
      "execution_count": 71,
      "outputs": []
    },
    {
      "cell_type": "code",
      "metadata": {
        "id": "AYUynX2sM1SX"
      },
      "source": [
        "model = Sequential()\n",
        "model.add(LSTM(units=4, activation='relu', input_shape=(n_input, n_features)))\n",
        "model.add(Dense(units=1))\n",
        "model.compile(optimizer='adam', loss='mse')"
      ],
      "execution_count": 72,
      "outputs": []
    },
    {
      "cell_type": "code",
      "metadata": {
        "colab": {
          "base_uri": "https://localhost:8080/"
        },
        "id": "zKMY9CzeNjdH",
        "outputId": "da4aa82c-6713-47a6-dc3d-eea89ad62c45"
      },
      "source": [
        "model.summary()"
      ],
      "execution_count": 73,
      "outputs": [
        {
          "output_type": "stream",
          "text": [
            "Model: \"sequential_4\"\n",
            "_________________________________________________________________\n",
            "Layer (type)                 Output Shape              Param #   \n",
            "=================================================================\n",
            "lstm_3 (LSTM)                (None, 4)                 96        \n",
            "_________________________________________________________________\n",
            "dense_2 (Dense)              (None, 1)                 5         \n",
            "=================================================================\n",
            "Total params: 101\n",
            "Trainable params: 101\n",
            "Non-trainable params: 0\n",
            "_________________________________________________________________\n"
          ],
          "name": "stdout"
        }
      ]
    },
    {
      "cell_type": "code",
      "metadata": {
        "colab": {
          "base_uri": "https://localhost:8080/"
        },
        "id": "nnPw2ba4NuVY",
        "outputId": "33fbda97-427e-42cb-95b4-a6242801cc06"
      },
      "source": [
        "model.fit(generator, epochs=10)"
      ],
      "execution_count": 74,
      "outputs": [
        {
          "output_type": "stream",
          "text": [
            "Epoch 1/10\n",
            "40/40 [==============================] - 2s 4ms/step - loss: 0.0485\n",
            "Epoch 2/10\n",
            "40/40 [==============================] - 0s 4ms/step - loss: 0.0473\n",
            "Epoch 3/10\n",
            "40/40 [==============================] - 0s 4ms/step - loss: 0.0542\n",
            "Epoch 4/10\n",
            "40/40 [==============================] - 0s 4ms/step - loss: 0.0409\n",
            "Epoch 5/10\n",
            "40/40 [==============================] - 0s 4ms/step - loss: 0.0506\n",
            "Epoch 6/10\n",
            "40/40 [==============================] - 0s 4ms/step - loss: 0.0739\n",
            "Epoch 7/10\n",
            "40/40 [==============================] - 0s 4ms/step - loss: 0.0505\n",
            "Epoch 8/10\n",
            "40/40 [==============================] - 0s 4ms/step - loss: 0.0366\n",
            "Epoch 9/10\n",
            "40/40 [==============================] - 0s 4ms/step - loss: 0.0517\n",
            "Epoch 10/10\n",
            "40/40 [==============================] - 0s 4ms/step - loss: 0.0560\n"
          ],
          "name": "stdout"
        },
        {
          "output_type": "execute_result",
          "data": {
            "text/plain": [
              "<keras.callbacks.History at 0x7f5e253da1d0>"
            ]
          },
          "metadata": {
            "tags": []
          },
          "execution_count": 74
        }
      ]
    },
    {
      "cell_type": "code",
      "metadata": {
        "colab": {
          "base_uri": "https://localhost:8080/",
          "height": 282
        },
        "id": "U3hnwPZUN40L",
        "outputId": "ab21d613-a687-4b88-bf28-6ab8b9c81090"
      },
      "source": [
        "loss_per_epoch = model.history.history['loss']\n",
        "plt.plot(range(len(loss_per_epoch)), loss_per_epoch)"
      ],
      "execution_count": 75,
      "outputs": [
        {
          "output_type": "execute_result",
          "data": {
            "text/plain": [
              "[<matplotlib.lines.Line2D at 0x7f5e250afbd0>]"
            ]
          },
          "metadata": {
            "tags": []
          },
          "execution_count": 75
        },
        {
          "output_type": "display_data",
          "data": {
            "image/png": "[encoded data removed]",
            "text/plain": [
              "<Figure size 432x288 with 1 Axes>"
            ]
          },
          "metadata": {
            "tags": [],
            "needs_background": "light"
          }
        }
      ]
    },
    {
      "cell_type": "code",
      "metadata": {
        "id": "tgFjpKU4Ogqk"
      },
      "source": [
        "last_train_batch = scaled_train[-n_input:]"
      ],
      "execution_count": 76,
      "outputs": []
    },
    {
      "cell_type": "code",
      "metadata": {
        "id": "kFZjGegTOPOJ"
      },
      "source": [
        "last_train_batch = last_train_batch.reshape((1, n_input, n_features))"
      ],
      "execution_count": 77,
      "outputs": []
    },
    {
      "cell_type": "code",
      "metadata": {
        "colab": {
          "base_uri": "https://localhost:8080/"
        },
        "id": "-d3rOcABOoXL",
        "outputId": "44506172-c8f8-44d1-d0ee-0fa0a4c39a05"
      },
      "source": [
        "model.predict(last_train_batch)"
      ],
      "execution_count": 78,
      "outputs": [
        {
          "output_type": "execute_result",
          "data": {
            "text/plain": [
              "array([[0.39869025]], dtype=float32)"
            ]
          },
          "metadata": {
            "tags": []
          },
          "execution_count": 78
        }
      ]
    },
    {
      "cell_type": "code",
      "metadata": {
        "colab": {
          "base_uri": "https://localhost:8080/"
        },
        "id": "PYnLStTOO-VR",
        "outputId": "9c5efacb-37cf-4682-90f7-dcf36d01f1eb"
      },
      "source": [
        "scaled_test[0]"
      ],
      "execution_count": 79,
      "outputs": [
        {
          "output_type": "execute_result",
          "data": {
            "text/plain": [
              "array([0.17299396])"
            ]
          },
          "metadata": {
            "tags": []
          },
          "execution_count": 79
        }
      ]
    },
    {
      "cell_type": "code",
      "metadata": {
        "id": "46LymeNWPCpY"
      },
      "source": [
        "test_predictions  = []\n",
        "\n",
        "first_eval_batch = scaled_train[-n_input:]\n",
        "current_batch = first_eval_batch.reshape((1, n_input, n_features))\n",
        "\n",
        "for i in range(len(yemen_df_test)):\n",
        "  # get the predictiion value for the first batch\n",
        "  current_pred = model.predict(current_batch)[0]\n",
        "\n",
        "  # append the prediction into an array\n",
        "  test_predictions.append(current_pred)\n",
        "\n",
        "  # use prediction to update the batch and remove the first value\n",
        "  current_batch = np.append(current_batch[:,1:,:], [[current_pred]], axis=1)"
      ],
      "execution_count": 80,
      "outputs": []
    },
    {
      "cell_type": "code",
      "metadata": {
        "colab": {
          "base_uri": "https://localhost:8080/"
        },
        "id": "T_BumlanUG9h",
        "outputId": "ec2367a2-d780-48c2-ca0a-c90b057dac04"
      },
      "source": [
        "test_predictions"
      ],
      "execution_count": 81,
      "outputs": [
        {
          "output_type": "execute_result",
          "data": {
            "text/plain": [
              "[array([0.39869025], dtype=float32),\n",
              " array([0.40594938], dtype=float32),\n",
              " array([0.40989694], dtype=float32),\n",
              " array([0.4098932], dtype=float32),\n",
              " array([0.3972703], dtype=float32),\n",
              " array([0.3913048], dtype=float32),\n",
              " array([0.39678776], dtype=float32),\n",
              " array([0.3927419], dtype=float32),\n",
              " array([0.38674578], dtype=float32),\n",
              " array([0.3870269], dtype=float32),\n",
              " array([0.3918182], dtype=float32),\n",
              " array([0.38809708], dtype=float32),\n",
              " array([0.3806299], dtype=float32),\n",
              " array([0.3784054], dtype=float32),\n",
              " array([0.37564224], dtype=float32),\n",
              " array([0.37264964], dtype=float32),\n",
              " array([0.36956474], dtype=float32),\n",
              " array([0.36675522], dtype=float32)]"
            ]
          },
          "metadata": {
            "tags": []
          },
          "execution_count": 81
        }
      ]
    },
    {
      "cell_type": "code",
      "metadata": {
        "id": "ziZ7F_fBUNJv"
      },
      "source": [
        "true_predictions = scaler.inverse_transform(test_predictions)"
      ],
      "execution_count": 82,
      "outputs": []
    },
    {
      "cell_type": "code",
      "metadata": {
        "colab": {
          "base_uri": "https://localhost:8080/"
        },
        "id": "EgDezelqUYU8",
        "outputId": "6c60e3ed-d1ab-4591-c98e-f01f04a4f6bc"
      },
      "source": [
        "yemen_df_test['predictions'] = true_predictions"
      ],
      "execution_count": 83,
      "outputs": [
        {
          "output_type": "stream",
          "text": [
            "/usr/local/lib/python3.7/dist-packages/ipykernel_launcher.py:1: SettingWithCopyWarning: \n",
            "A value is trying to be set on a copy of a slice from a DataFrame.\n",
            "Try using .loc[row_indexer,col_indexer] = value instead\n",
            "\n",
            "See the caveats in the documentation: https://pandas.pydata.org/pandas-docs/stable/user_guide/indexing.html#returning-a-view-versus-a-copy\n",
            "  \"\"\"Entry point for launching an IPython kernel.\n"
          ],
          "name": "stderr"
        }
      ]
    },
    {
      "cell_type": "code",
      "metadata": {
        "colab": {
          "base_uri": "https://localhost:8080/",
          "height": 320
        },
        "id": "TFN1prOcUf-1",
        "outputId": "57a0d352-1991-4c6d-f3ec-cb8ad4e0ed88"
      },
      "source": [
        "yemen_df_test.plot(figsize=(14,4))"
      ],
      "execution_count": 84,
      "outputs": [
        {
          "output_type": "execute_result",
          "data": {
            "text/plain": [
              "<matplotlib.axes._subplots.AxesSubplot at 0x7f5e23fa5dd0>"
            ]
          },
          "metadata": {
            "tags": []
          },
          "execution_count": 84
        },
        {
          "output_type": "display_data",
          "data": {
            "image/png": "[encoded data removed]",
            "text/plain": [
              "<Figure size 1008x288 with 1 Axes>"
            ]
          },
          "metadata": {
            "tags": [],
            "needs_background": "light"
          }
        }
      ]
    },
    {
      "cell_type": "code",
      "metadata": {
        "colab": {
          "base_uri": "https://localhost:8080/"
        },
        "id": "9pWoyqyWUp0U",
        "outputId": "23db21d7-40f8-4166-8b76-7d6b32cb2783"
      },
      "source": [
        "from sklearn.metrics import mean_squared_error\n",
        "np.sqrt(mean_squared_error(yemen_df_test['mean'], yemen_df_test['predictions']))"
      ],
      "execution_count": 85,
      "outputs": [
        {
          "output_type": "execute_result",
          "data": {
            "text/plain": [
              "0.01493427988878323"
            ]
          },
          "metadata": {
            "tags": []
          },
          "execution_count": 85
        }
      ]
    },
    {
      "cell_type": "code",
      "metadata": {
        "id": "k61mqqjQUtSW"
      },
      "source": [
        ""
      ],
      "execution_count": 63,
      "outputs": []
    }
  ]
}